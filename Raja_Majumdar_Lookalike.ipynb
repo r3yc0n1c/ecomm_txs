{
 "cells": [
  {
   "cell_type": "code",
   "execution_count": 1,
   "metadata": {},
   "outputs": [],
   "source": [
    "import pandas as pd\n",
    "from sklearn.preprocessing import LabelEncoder\n",
    "from sklearn.metrics.pairwise import cosine_similarity\n",
    "import numpy as np"
   ]
  },
  {
   "cell_type": "code",
   "execution_count": 2,
   "metadata": {},
   "outputs": [],
   "source": [
    "# Load datasets\n",
    "customers = pd.read_csv(\"data/Customers.csv\")\n",
    "products = pd.read_csv(\"data/Products.csv\")\n",
    "transactions = pd.read_csv(\"data/Transactions.csv\")"
   ]
  },
  {
   "cell_type": "code",
   "execution_count": 4,
   "metadata": {},
   "outputs": [
    {
     "name": "stdout",
     "output_type": "stream",
     "text": [
      "<class 'pandas.core.frame.DataFrame'>\n",
      "RangeIndex: 1000 entries, 0 to 999\n",
      "Data columns (total 12 columns):\n",
      " #   Column           Non-Null Count  Dtype  \n",
      "---  ------           --------------  -----  \n",
      " 0   TransactionID    1000 non-null   object \n",
      " 1   CustomerID       1000 non-null   object \n",
      " 2   ProductID        1000 non-null   object \n",
      " 3   TransactionDate  1000 non-null   object \n",
      " 4   Quantity         1000 non-null   int64  \n",
      " 5   TotalValue       1000 non-null   float64\n",
      " 6   Price            1000 non-null   float64\n",
      " 7   CustomerName     1000 non-null   object \n",
      " 8   Region           1000 non-null   object \n",
      " 9   SignupDate       1000 non-null   object \n",
      " 10  ProductName      1000 non-null   object \n",
      " 11  Category         1000 non-null   object \n",
      "dtypes: float64(2), int64(1), object(9)\n",
      "memory usage: 93.9+ KB\n"
     ]
    }
   ],
   "source": [
    "# Merge datasets\n",
    "data = transactions.merge(customers, on=\"CustomerID\").merge(products, on=\"ProductID\")\n",
    "data = data.drop(columns=[\"Price_y\"]).rename(columns={\"Price_x\": \"Price\"})\n",
    "data.info()"
   ]
  },
  {
   "cell_type": "code",
   "execution_count": 5,
   "metadata": {},
   "outputs": [],
   "source": [
    "# Encode categorical features\n",
    "encoder = LabelEncoder()\n",
    "data[\"Region\"] = encoder.fit_transform(data[\"Region\"])\n",
    "data[\"Category\"] = encoder.fit_transform(data[\"Category\"])"
   ]
  },
  {
   "cell_type": "code",
   "execution_count": 6,
   "metadata": {},
   "outputs": [],
   "source": [
    "# Aggregate transaction data per customer\n",
    "customer_features = data.groupby(\"CustomerID\").agg({\n",
    "    \"TotalValue\": \"sum\",\n",
    "    \"Quantity\": \"sum\",\n",
    "    \"Region\": \"first\",\n",
    "    \"Category\": lambda x: x.mode()[0]  # Most purchased category\n",
    "}).reset_index()"
   ]
  },
  {
   "cell_type": "code",
   "execution_count": 8,
   "metadata": {},
   "outputs": [],
   "source": [
    "# Normalize numerical features\n",
    "customer_features[[\"TotalValue\", \"Quantity\"]] = customer_features[[\"TotalValue\", \"Quantity\"]].apply(lambda x: (x - x.min()) / (x.max() - x.min()))\n",
    "\n",
    "# Compute similarity matrix\n",
    "feature_matrix = customer_features.drop(columns=[\"CustomerID\"])\n",
    "similarity_matrix = cosine_similarity(feature_matrix)\n",
    "\n",
    "# Generate Lookalike recommendations\n",
    "customer_ids = customer_features[\"CustomerID\"].tolist()\n",
    "lookalikes = {}\n",
    "\n",
    "for i, cust_id in enumerate(customer_ids[:20]):  # First 20 customers\n",
    "    similar_indices = np.argsort(similarity_matrix[i])[::-1][1:4]  # Top 3 similar customers\n",
    "    similar_customers = [(customer_ids[idx], similarity_matrix[i][idx]) for idx in similar_indices]\n",
    "    lookalikes[cust_id] = similar_customers\n",
    "\n",
    "# Save as CSV\n",
    "# lookalike_df = pd.DataFrame.from_dict(lookalikes, orient='index')\n",
    "# lookalike_df.to_csv(\"Lookalike.csv\", header=False)\n",
    "\n",
    "\n",
    "# Format the lookalikes data in the required format\n",
    "lookalike_map = []\n",
    "for key, value in lookalikes.items():\n",
    "    lookalike_list = [f\"('{lookalike_id}', {similarity:.6f})\" for lookalike_id, similarity in value]\n",
    "    lookalike_map.append([key, f\"[{', '.join(lookalike_list)}]\"])\n",
    "\n",
    "lookalike_df = pd.DataFrame(lookalike_map, columns=['CustomerID', 'Lookalikes'])\n",
    "\n",
    "# Save as CSV\n",
    "lookalike_df.to_csv(\"Raja_Majumdar_Lookalike.csv\", index=False)"
   ]
  }
 ],
 "metadata": {
  "kernelspec": {
   "display_name": "3.11.9",
   "language": "python",
   "name": "python3"
  },
  "language_info": {
   "codemirror_mode": {
    "name": "ipython",
    "version": 3
   },
   "file_extension": ".py",
   "mimetype": "text/x-python",
   "name": "python",
   "nbconvert_exporter": "python",
   "pygments_lexer": "ipython3",
   "version": "3.11.9"
  }
 },
 "nbformat": 4,
 "nbformat_minor": 2
}
